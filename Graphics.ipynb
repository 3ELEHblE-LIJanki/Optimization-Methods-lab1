{
 "cells": [
  {
   "cell_type": "markdown",
   "id": "318fef8d",
   "metadata": {},
   "source": [
    "План примерно такой:"
   ]
  },
  {
   "cell_type": "code",
   "execution_count": 1,
   "id": "640698b4",
   "metadata": {},
   "outputs": [
    {
     "name": "stdout",
     "output_type": "stream",
     "text": [
      "heheheh\n",
      "ahahahah\n"
     ]
    }
   ],
   "source": [
    "from graphicsPainter import GraphicsPainter \n",
    "from gradientDecent import GradientDecent\n",
    "from lrs import polinomialDecay\n",
    "\n",
    "d1 = GradientDecent(polinomialDecay(0.5, 1), 100)\n",
    "g1 = GraphicsPainter(d1)\n",
    "g1.paintLevels()\n",
    "g1.paintTrajectory()"
   ]
  },
  {
   "cell_type": "code",
   "execution_count": null,
   "id": "98e83ef1-5993-4b80-8c01-38b429a951fa",
   "metadata": {},
   "outputs": [],
   "source": [
    "И так для всего что нужно поисследуем и нарисуем графики и здесь отчёт \n",
    "(в моём понимании всё круто выглядит, но я всё ещё плохо понимаю питон)"
   ]
  }
 ],
 "metadata": {
  "kernelspec": {
   "display_name": "Python 3 (ipykernel)",
   "language": "python",
   "name": "python3"
  },
  "language_info": {
   "codemirror_mode": {
    "name": "ipython",
    "version": 3
   },
   "file_extension": ".py",
   "mimetype": "text/x-python",
   "name": "python",
   "nbconvert_exporter": "python",
   "pygments_lexer": "ipython3",
   "version": "3.13.2"
  }
 },
 "nbformat": 4,
 "nbformat_minor": 5
}
